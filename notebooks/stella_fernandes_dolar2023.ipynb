{
  "nbformat": 4,
  "nbformat_minor": 0,
  "metadata": {
    "colab": {
      "provenance": []
    },
    "kernelspec": {
      "name": "python3",
      "display_name": "Python 3"
    },
    "language_info": {
      "name": "python"
    }
  },
  "cells": [
    {
      "cell_type": "markdown",
      "source": [
        "# Desafio Python para Dados"
      ],
      "metadata": {
        "id": "ip_zVRJqZ3w_"
      }
    },
    {
      "cell_type": "markdown",
      "source": [
        "Este exercício tem como objetivo avaliar sua familiaridade com o uso de Python para análise de dados, incluindo leitura de arquivos CSV, inspeção inicial do dataset e criação de um gráfico simples.\n",
        "\n",
        "## 📄 Tarefa\n",
        "\n",
        "Você irá trabalhar com um conjunto de dados contendo a cotação do dólar em 2023, fornecido pelo Banco Central do Brasil."
      ],
      "metadata": {
        "id": "8TSXGAAHcYRn"
      }
    },
    {
      "cell_type": "code",
      "execution_count": 1,
      "metadata": {
        "id": "3qPcJqWi5PT9"
      },
      "outputs": [],
      "source": [
        "#Importação de bibliotecas\n",
        "import pandas as pd"
      ]
    },
    {
      "cell_type": "code",
      "source": [
        "#Leitura dos dados\n",
        "df_dolar_2023 = pd.read_csv('https://raw.githubusercontent.com/programacaodinamica/dicas-pandas/refs/heads/master/dados/bcdata-dolar-2023.csv', sep=';', decimal=',')"
      ],
      "metadata": {
        "id": "tgt8Cx_B6u93"
      },
      "execution_count": 2,
      "outputs": []
    },
    {
      "cell_type": "code",
      "source": [
        "#Conversão de tipo da coluna data\n",
        "df_dolar_2023['data'] = pd.to_datetime(df_dolar_2023['data'], format='%d/%m/%Y')\n",
        "df_dolar_2023.set_index('data', inplace=True)"
      ],
      "metadata": {
        "id": "FDLFBMaYb2A3"
      },
      "execution_count": 3,
      "outputs": []
    },
    {
      "cell_type": "code",
      "source": [
        "#Visualize as primeiras linhas do conjunto de dados\n",
        "\n",
        "##Insira seu código aqui\n",
        "df_dolar_2023.head(10)"
      ],
      "metadata": {
        "id": "q_nCnKvX7vyF",
        "colab": {
          "base_uri": "https://localhost:8080/",
          "height": 394
        },
        "outputId": "4ab9ea87-0f26-418a-f5ba-3349cad759ae"
      },
      "execution_count": null,
      "outputs": [
        {
          "output_type": "execute_result",
          "data": {
            "text/plain": [
              "             valor\n",
              "data              \n",
              "2023-01-02  5.3430\n",
              "2023-01-03  5.3753\n",
              "2023-01-04  5.4453\n",
              "2023-01-05  5.4020\n",
              "2023-01-06  5.2849\n",
              "2023-01-09  5.2961\n",
              "2023-01-10  5.2389\n",
              "2023-01-11  5.2014\n",
              "2023-01-12  5.1394\n",
              "2023-01-13  5.1140"
            ],
            "text/html": [
              "\n",
              "  <div id=\"df-73510b73-264b-4ebb-b775-f989f870f648\" class=\"colab-df-container\">\n",
              "    <div>\n",
              "<style scoped>\n",
              "    .dataframe tbody tr th:only-of-type {\n",
              "        vertical-align: middle;\n",
              "    }\n",
              "\n",
              "    .dataframe tbody tr th {\n",
              "        vertical-align: top;\n",
              "    }\n",
              "\n",
              "    .dataframe thead th {\n",
              "        text-align: right;\n",
              "    }\n",
              "</style>\n",
              "<table border=\"1\" class=\"dataframe\">\n",
              "  <thead>\n",
              "    <tr style=\"text-align: right;\">\n",
              "      <th></th>\n",
              "      <th>valor</th>\n",
              "    </tr>\n",
              "    <tr>\n",
              "      <th>data</th>\n",
              "      <th></th>\n",
              "    </tr>\n",
              "  </thead>\n",
              "  <tbody>\n",
              "    <tr>\n",
              "      <th>2023-01-02</th>\n",
              "      <td>5.3430</td>\n",
              "    </tr>\n",
              "    <tr>\n",
              "      <th>2023-01-03</th>\n",
              "      <td>5.3753</td>\n",
              "    </tr>\n",
              "    <tr>\n",
              "      <th>2023-01-04</th>\n",
              "      <td>5.4453</td>\n",
              "    </tr>\n",
              "    <tr>\n",
              "      <th>2023-01-05</th>\n",
              "      <td>5.4020</td>\n",
              "    </tr>\n",
              "    <tr>\n",
              "      <th>2023-01-06</th>\n",
              "      <td>5.2849</td>\n",
              "    </tr>\n",
              "    <tr>\n",
              "      <th>2023-01-09</th>\n",
              "      <td>5.2961</td>\n",
              "    </tr>\n",
              "    <tr>\n",
              "      <th>2023-01-10</th>\n",
              "      <td>5.2389</td>\n",
              "    </tr>\n",
              "    <tr>\n",
              "      <th>2023-01-11</th>\n",
              "      <td>5.2014</td>\n",
              "    </tr>\n",
              "    <tr>\n",
              "      <th>2023-01-12</th>\n",
              "      <td>5.1394</td>\n",
              "    </tr>\n",
              "    <tr>\n",
              "      <th>2023-01-13</th>\n",
              "      <td>5.1140</td>\n",
              "    </tr>\n",
              "  </tbody>\n",
              "</table>\n",
              "</div>\n",
              "    <div class=\"colab-df-buttons\">\n",
              "\n",
              "  <div class=\"colab-df-container\">\n",
              "    <button class=\"colab-df-convert\" onclick=\"convertToInteractive('df-73510b73-264b-4ebb-b775-f989f870f648')\"\n",
              "            title=\"Convert this dataframe to an interactive table.\"\n",
              "            style=\"display:none;\">\n",
              "\n",
              "  <svg xmlns=\"http://www.w3.org/2000/svg\" height=\"24px\" viewBox=\"0 -960 960 960\">\n",
              "    <path d=\"M120-120v-720h720v720H120Zm60-500h600v-160H180v160Zm220 220h160v-160H400v160Zm0 220h160v-160H400v160ZM180-400h160v-160H180v160Zm440 0h160v-160H620v160ZM180-180h160v-160H180v160Zm440 0h160v-160H620v160Z\"/>\n",
              "  </svg>\n",
              "    </button>\n",
              "\n",
              "  <style>\n",
              "    .colab-df-container {\n",
              "      display:flex;\n",
              "      gap: 12px;\n",
              "    }\n",
              "\n",
              "    .colab-df-convert {\n",
              "      background-color: #E8F0FE;\n",
              "      border: none;\n",
              "      border-radius: 50%;\n",
              "      cursor: pointer;\n",
              "      display: none;\n",
              "      fill: #1967D2;\n",
              "      height: 32px;\n",
              "      padding: 0 0 0 0;\n",
              "      width: 32px;\n",
              "    }\n",
              "\n",
              "    .colab-df-convert:hover {\n",
              "      background-color: #E2EBFA;\n",
              "      box-shadow: 0px 1px 2px rgba(60, 64, 67, 0.3), 0px 1px 3px 1px rgba(60, 64, 67, 0.15);\n",
              "      fill: #174EA6;\n",
              "    }\n",
              "\n",
              "    .colab-df-buttons div {\n",
              "      margin-bottom: 4px;\n",
              "    }\n",
              "\n",
              "    [theme=dark] .colab-df-convert {\n",
              "      background-color: #3B4455;\n",
              "      fill: #D2E3FC;\n",
              "    }\n",
              "\n",
              "    [theme=dark] .colab-df-convert:hover {\n",
              "      background-color: #434B5C;\n",
              "      box-shadow: 0px 1px 3px 1px rgba(0, 0, 0, 0.15);\n",
              "      filter: drop-shadow(0px 1px 2px rgba(0, 0, 0, 0.3));\n",
              "      fill: #FFFFFF;\n",
              "    }\n",
              "  </style>\n",
              "\n",
              "    <script>\n",
              "      const buttonEl =\n",
              "        document.querySelector('#df-73510b73-264b-4ebb-b775-f989f870f648 button.colab-df-convert');\n",
              "      buttonEl.style.display =\n",
              "        google.colab.kernel.accessAllowed ? 'block' : 'none';\n",
              "\n",
              "      async function convertToInteractive(key) {\n",
              "        const element = document.querySelector('#df-73510b73-264b-4ebb-b775-f989f870f648');\n",
              "        const dataTable =\n",
              "          await google.colab.kernel.invokeFunction('convertToInteractive',\n",
              "                                                    [key], {});\n",
              "        if (!dataTable) return;\n",
              "\n",
              "        const docLinkHtml = 'Like what you see? Visit the ' +\n",
              "          '<a target=\"_blank\" href=https://colab.research.google.com/notebooks/data_table.ipynb>data table notebook</a>'\n",
              "          + ' to learn more about interactive tables.';\n",
              "        element.innerHTML = '';\n",
              "        dataTable['output_type'] = 'display_data';\n",
              "        await google.colab.output.renderOutput(dataTable, element);\n",
              "        const docLink = document.createElement('div');\n",
              "        docLink.innerHTML = docLinkHtml;\n",
              "        element.appendChild(docLink);\n",
              "      }\n",
              "    </script>\n",
              "  </div>\n",
              "\n",
              "\n",
              "    <div id=\"df-fed199a4-d029-40fc-8b33-c8f0096ca18b\">\n",
              "      <button class=\"colab-df-quickchart\" onclick=\"quickchart('df-fed199a4-d029-40fc-8b33-c8f0096ca18b')\"\n",
              "                title=\"Suggest charts\"\n",
              "                style=\"display:none;\">\n",
              "\n",
              "<svg xmlns=\"http://www.w3.org/2000/svg\" height=\"24px\"viewBox=\"0 0 24 24\"\n",
              "     width=\"24px\">\n",
              "    <g>\n",
              "        <path d=\"M19 3H5c-1.1 0-2 .9-2 2v14c0 1.1.9 2 2 2h14c1.1 0 2-.9 2-2V5c0-1.1-.9-2-2-2zM9 17H7v-7h2v7zm4 0h-2V7h2v10zm4 0h-2v-4h2v4z\"/>\n",
              "    </g>\n",
              "</svg>\n",
              "      </button>\n",
              "\n",
              "<style>\n",
              "  .colab-df-quickchart {\n",
              "      --bg-color: #E8F0FE;\n",
              "      --fill-color: #1967D2;\n",
              "      --hover-bg-color: #E2EBFA;\n",
              "      --hover-fill-color: #174EA6;\n",
              "      --disabled-fill-color: #AAA;\n",
              "      --disabled-bg-color: #DDD;\n",
              "  }\n",
              "\n",
              "  [theme=dark] .colab-df-quickchart {\n",
              "      --bg-color: #3B4455;\n",
              "      --fill-color: #D2E3FC;\n",
              "      --hover-bg-color: #434B5C;\n",
              "      --hover-fill-color: #FFFFFF;\n",
              "      --disabled-bg-color: #3B4455;\n",
              "      --disabled-fill-color: #666;\n",
              "  }\n",
              "\n",
              "  .colab-df-quickchart {\n",
              "    background-color: var(--bg-color);\n",
              "    border: none;\n",
              "    border-radius: 50%;\n",
              "    cursor: pointer;\n",
              "    display: none;\n",
              "    fill: var(--fill-color);\n",
              "    height: 32px;\n",
              "    padding: 0;\n",
              "    width: 32px;\n",
              "  }\n",
              "\n",
              "  .colab-df-quickchart:hover {\n",
              "    background-color: var(--hover-bg-color);\n",
              "    box-shadow: 0 1px 2px rgba(60, 64, 67, 0.3), 0 1px 3px 1px rgba(60, 64, 67, 0.15);\n",
              "    fill: var(--button-hover-fill-color);\n",
              "  }\n",
              "\n",
              "  .colab-df-quickchart-complete:disabled,\n",
              "  .colab-df-quickchart-complete:disabled:hover {\n",
              "    background-color: var(--disabled-bg-color);\n",
              "    fill: var(--disabled-fill-color);\n",
              "    box-shadow: none;\n",
              "  }\n",
              "\n",
              "  .colab-df-spinner {\n",
              "    border: 2px solid var(--fill-color);\n",
              "    border-color: transparent;\n",
              "    border-bottom-color: var(--fill-color);\n",
              "    animation:\n",
              "      spin 1s steps(1) infinite;\n",
              "  }\n",
              "\n",
              "  @keyframes spin {\n",
              "    0% {\n",
              "      border-color: transparent;\n",
              "      border-bottom-color: var(--fill-color);\n",
              "      border-left-color: var(--fill-color);\n",
              "    }\n",
              "    20% {\n",
              "      border-color: transparent;\n",
              "      border-left-color: var(--fill-color);\n",
              "      border-top-color: var(--fill-color);\n",
              "    }\n",
              "    30% {\n",
              "      border-color: transparent;\n",
              "      border-left-color: var(--fill-color);\n",
              "      border-top-color: var(--fill-color);\n",
              "      border-right-color: var(--fill-color);\n",
              "    }\n",
              "    40% {\n",
              "      border-color: transparent;\n",
              "      border-right-color: var(--fill-color);\n",
              "      border-top-color: var(--fill-color);\n",
              "    }\n",
              "    60% {\n",
              "      border-color: transparent;\n",
              "      border-right-color: var(--fill-color);\n",
              "    }\n",
              "    80% {\n",
              "      border-color: transparent;\n",
              "      border-right-color: var(--fill-color);\n",
              "      border-bottom-color: var(--fill-color);\n",
              "    }\n",
              "    90% {\n",
              "      border-color: transparent;\n",
              "      border-bottom-color: var(--fill-color);\n",
              "    }\n",
              "  }\n",
              "</style>\n",
              "\n",
              "      <script>\n",
              "        async function quickchart(key) {\n",
              "          const quickchartButtonEl =\n",
              "            document.querySelector('#' + key + ' button');\n",
              "          quickchartButtonEl.disabled = true;  // To prevent multiple clicks.\n",
              "          quickchartButtonEl.classList.add('colab-df-spinner');\n",
              "          try {\n",
              "            const charts = await google.colab.kernel.invokeFunction(\n",
              "                'suggestCharts', [key], {});\n",
              "          } catch (error) {\n",
              "            console.error('Error during call to suggestCharts:', error);\n",
              "          }\n",
              "          quickchartButtonEl.classList.remove('colab-df-spinner');\n",
              "          quickchartButtonEl.classList.add('colab-df-quickchart-complete');\n",
              "        }\n",
              "        (() => {\n",
              "          let quickchartButtonEl =\n",
              "            document.querySelector('#df-fed199a4-d029-40fc-8b33-c8f0096ca18b button');\n",
              "          quickchartButtonEl.style.display =\n",
              "            google.colab.kernel.accessAllowed ? 'block' : 'none';\n",
              "        })();\n",
              "      </script>\n",
              "    </div>\n",
              "\n",
              "    </div>\n",
              "  </div>\n"
            ],
            "application/vnd.google.colaboratory.intrinsic+json": {
              "type": "dataframe",
              "variable_name": "df_dolar_2023",
              "summary": "{\n  \"name\": \"df_dolar_2023\",\n  \"rows\": 249,\n  \"fields\": [\n    {\n      \"column\": \"data\",\n      \"properties\": {\n        \"dtype\": \"date\",\n        \"min\": \"2023-01-02 00:00:00\",\n        \"max\": \"2023-12-29 00:00:00\",\n        \"num_unique_values\": 249,\n        \"samples\": [\n          \"2023-07-20 00:00:00\",\n          \"2023-01-10 00:00:00\",\n          \"2023-05-24 00:00:00\"\n        ],\n        \"semantic_type\": \"\",\n        \"description\": \"\"\n      }\n    },\n    {\n      \"column\": \"valor\",\n      \"properties\": {\n        \"dtype\": \"number\",\n        \"std\": 0.1486863989984205,\n        \"min\": 4.7196,\n        \"max\": 5.4453,\n        \"num_unique_values\": 240,\n        \"samples\": [\n          5.1024,\n          5.2389,\n          4.9668\n        ],\n        \"semantic_type\": \"\",\n        \"description\": \"\"\n      }\n    }\n  ]\n}"
            }
          },
          "metadata": {},
          "execution_count": 4
        }
      ]
    },
    {
      "cell_type": "markdown",
      "source": [
        "Agora, escreva um breve comentário sobre o que você observa nesse recorte inicial dos dados (valores, estrutura, possíveis insights ou dúvidas)."
      ],
      "metadata": {
        "id": "0H1iNK2tczxM"
      }
    },
    {
      "cell_type": "markdown",
      "source": [
        "Consigo observar a variação da moeda diariamente, já consigo perceber que a partir do dia 9 de janeiro a moeda vai diminuindo, mas ainda tenho que verificar por quanto tempo isso ocorre."
      ],
      "metadata": {
        "id": "q9zk28U4c3sf"
      }
    },
    {
      "cell_type": "code",
      "source": [
        "#Visualize os detalhes sobre os tipos de colunas no conjunto de dados\n",
        "\n",
        "##Insira seu código aqui\n",
        "df_dolar_2023.columns\n",
        "print(df_dolar_2023.index.dtype)"
      ],
      "metadata": {
        "id": "WlU1xzSrap4B",
        "colab": {
          "base_uri": "https://localhost:8080/"
        },
        "outputId": "4e0efe77-989b-4d74-a8d1-d8779dcbdab5"
      },
      "execution_count": null,
      "outputs": [
        {
          "output_type": "stream",
          "name": "stdout",
          "text": [
            "datetime64[ns]\n"
          ]
        }
      ]
    },
    {
      "cell_type": "code",
      "source": [
        "print(df_dolar_2023['valor'].dtype)"
      ],
      "metadata": {
        "colab": {
          "base_uri": "https://localhost:8080/"
        },
        "id": "9oVDqDdPKEjW",
        "outputId": "ed7a6f2b-38c5-4679-bd21-df9612734d64"
      },
      "execution_count": null,
      "outputs": [
        {
          "output_type": "stream",
          "name": "stdout",
          "text": [
            "float64\n"
          ]
        }
      ]
    },
    {
      "cell_type": "code",
      "source": [
        "# descrição estatística do dataframe\n",
        "df_dolar_2023.describe()"
      ],
      "metadata": {
        "colab": {
          "base_uri": "https://localhost:8080/",
          "height": 300
        },
        "id": "sayDkRJhAUDv",
        "outputId": "24324867-91bd-4c8b-c150-0468ef474cc1"
      },
      "execution_count": null,
      "outputs": [
        {
          "output_type": "execute_result",
          "data": {
            "text/plain": [
              "            valor\n",
              "count  249.000000\n",
              "mean     4.994748\n",
              "std      0.148686\n",
              "min      4.719600\n",
              "25%      4.884900\n",
              "50%      4.967200\n",
              "75%      5.095300\n",
              "max      5.445300"
            ],
            "text/html": [
              "\n",
              "  <div id=\"df-b4e67bd8-aecc-4c04-a96a-8df1b19966ee\" class=\"colab-df-container\">\n",
              "    <div>\n",
              "<style scoped>\n",
              "    .dataframe tbody tr th:only-of-type {\n",
              "        vertical-align: middle;\n",
              "    }\n",
              "\n",
              "    .dataframe tbody tr th {\n",
              "        vertical-align: top;\n",
              "    }\n",
              "\n",
              "    .dataframe thead th {\n",
              "        text-align: right;\n",
              "    }\n",
              "</style>\n",
              "<table border=\"1\" class=\"dataframe\">\n",
              "  <thead>\n",
              "    <tr style=\"text-align: right;\">\n",
              "      <th></th>\n",
              "      <th>valor</th>\n",
              "    </tr>\n",
              "  </thead>\n",
              "  <tbody>\n",
              "    <tr>\n",
              "      <th>count</th>\n",
              "      <td>249.000000</td>\n",
              "    </tr>\n",
              "    <tr>\n",
              "      <th>mean</th>\n",
              "      <td>4.994748</td>\n",
              "    </tr>\n",
              "    <tr>\n",
              "      <th>std</th>\n",
              "      <td>0.148686</td>\n",
              "    </tr>\n",
              "    <tr>\n",
              "      <th>min</th>\n",
              "      <td>4.719600</td>\n",
              "    </tr>\n",
              "    <tr>\n",
              "      <th>25%</th>\n",
              "      <td>4.884900</td>\n",
              "    </tr>\n",
              "    <tr>\n",
              "      <th>50%</th>\n",
              "      <td>4.967200</td>\n",
              "    </tr>\n",
              "    <tr>\n",
              "      <th>75%</th>\n",
              "      <td>5.095300</td>\n",
              "    </tr>\n",
              "    <tr>\n",
              "      <th>max</th>\n",
              "      <td>5.445300</td>\n",
              "    </tr>\n",
              "  </tbody>\n",
              "</table>\n",
              "</div>\n",
              "    <div class=\"colab-df-buttons\">\n",
              "\n",
              "  <div class=\"colab-df-container\">\n",
              "    <button class=\"colab-df-convert\" onclick=\"convertToInteractive('df-b4e67bd8-aecc-4c04-a96a-8df1b19966ee')\"\n",
              "            title=\"Convert this dataframe to an interactive table.\"\n",
              "            style=\"display:none;\">\n",
              "\n",
              "  <svg xmlns=\"http://www.w3.org/2000/svg\" height=\"24px\" viewBox=\"0 -960 960 960\">\n",
              "    <path d=\"M120-120v-720h720v720H120Zm60-500h600v-160H180v160Zm220 220h160v-160H400v160Zm0 220h160v-160H400v160ZM180-400h160v-160H180v160Zm440 0h160v-160H620v160ZM180-180h160v-160H180v160Zm440 0h160v-160H620v160Z\"/>\n",
              "  </svg>\n",
              "    </button>\n",
              "\n",
              "  <style>\n",
              "    .colab-df-container {\n",
              "      display:flex;\n",
              "      gap: 12px;\n",
              "    }\n",
              "\n",
              "    .colab-df-convert {\n",
              "      background-color: #E8F0FE;\n",
              "      border: none;\n",
              "      border-radius: 50%;\n",
              "      cursor: pointer;\n",
              "      display: none;\n",
              "      fill: #1967D2;\n",
              "      height: 32px;\n",
              "      padding: 0 0 0 0;\n",
              "      width: 32px;\n",
              "    }\n",
              "\n",
              "    .colab-df-convert:hover {\n",
              "      background-color: #E2EBFA;\n",
              "      box-shadow: 0px 1px 2px rgba(60, 64, 67, 0.3), 0px 1px 3px 1px rgba(60, 64, 67, 0.15);\n",
              "      fill: #174EA6;\n",
              "    }\n",
              "\n",
              "    .colab-df-buttons div {\n",
              "      margin-bottom: 4px;\n",
              "    }\n",
              "\n",
              "    [theme=dark] .colab-df-convert {\n",
              "      background-color: #3B4455;\n",
              "      fill: #D2E3FC;\n",
              "    }\n",
              "\n",
              "    [theme=dark] .colab-df-convert:hover {\n",
              "      background-color: #434B5C;\n",
              "      box-shadow: 0px 1px 3px 1px rgba(0, 0, 0, 0.15);\n",
              "      filter: drop-shadow(0px 1px 2px rgba(0, 0, 0, 0.3));\n",
              "      fill: #FFFFFF;\n",
              "    }\n",
              "  </style>\n",
              "\n",
              "    <script>\n",
              "      const buttonEl =\n",
              "        document.querySelector('#df-b4e67bd8-aecc-4c04-a96a-8df1b19966ee button.colab-df-convert');\n",
              "      buttonEl.style.display =\n",
              "        google.colab.kernel.accessAllowed ? 'block' : 'none';\n",
              "\n",
              "      async function convertToInteractive(key) {\n",
              "        const element = document.querySelector('#df-b4e67bd8-aecc-4c04-a96a-8df1b19966ee');\n",
              "        const dataTable =\n",
              "          await google.colab.kernel.invokeFunction('convertToInteractive',\n",
              "                                                    [key], {});\n",
              "        if (!dataTable) return;\n",
              "\n",
              "        const docLinkHtml = 'Like what you see? Visit the ' +\n",
              "          '<a target=\"_blank\" href=https://colab.research.google.com/notebooks/data_table.ipynb>data table notebook</a>'\n",
              "          + ' to learn more about interactive tables.';\n",
              "        element.innerHTML = '';\n",
              "        dataTable['output_type'] = 'display_data';\n",
              "        await google.colab.output.renderOutput(dataTable, element);\n",
              "        const docLink = document.createElement('div');\n",
              "        docLink.innerHTML = docLinkHtml;\n",
              "        element.appendChild(docLink);\n",
              "      }\n",
              "    </script>\n",
              "  </div>\n",
              "\n",
              "\n",
              "    <div id=\"df-9ef90852-adc0-4c0a-8cc3-cbd73d3bd03c\">\n",
              "      <button class=\"colab-df-quickchart\" onclick=\"quickchart('df-9ef90852-adc0-4c0a-8cc3-cbd73d3bd03c')\"\n",
              "                title=\"Suggest charts\"\n",
              "                style=\"display:none;\">\n",
              "\n",
              "<svg xmlns=\"http://www.w3.org/2000/svg\" height=\"24px\"viewBox=\"0 0 24 24\"\n",
              "     width=\"24px\">\n",
              "    <g>\n",
              "        <path d=\"M19 3H5c-1.1 0-2 .9-2 2v14c0 1.1.9 2 2 2h14c1.1 0 2-.9 2-2V5c0-1.1-.9-2-2-2zM9 17H7v-7h2v7zm4 0h-2V7h2v10zm4 0h-2v-4h2v4z\"/>\n",
              "    </g>\n",
              "</svg>\n",
              "      </button>\n",
              "\n",
              "<style>\n",
              "  .colab-df-quickchart {\n",
              "      --bg-color: #E8F0FE;\n",
              "      --fill-color: #1967D2;\n",
              "      --hover-bg-color: #E2EBFA;\n",
              "      --hover-fill-color: #174EA6;\n",
              "      --disabled-fill-color: #AAA;\n",
              "      --disabled-bg-color: #DDD;\n",
              "  }\n",
              "\n",
              "  [theme=dark] .colab-df-quickchart {\n",
              "      --bg-color: #3B4455;\n",
              "      --fill-color: #D2E3FC;\n",
              "      --hover-bg-color: #434B5C;\n",
              "      --hover-fill-color: #FFFFFF;\n",
              "      --disabled-bg-color: #3B4455;\n",
              "      --disabled-fill-color: #666;\n",
              "  }\n",
              "\n",
              "  .colab-df-quickchart {\n",
              "    background-color: var(--bg-color);\n",
              "    border: none;\n",
              "    border-radius: 50%;\n",
              "    cursor: pointer;\n",
              "    display: none;\n",
              "    fill: var(--fill-color);\n",
              "    height: 32px;\n",
              "    padding: 0;\n",
              "    width: 32px;\n",
              "  }\n",
              "\n",
              "  .colab-df-quickchart:hover {\n",
              "    background-color: var(--hover-bg-color);\n",
              "    box-shadow: 0 1px 2px rgba(60, 64, 67, 0.3), 0 1px 3px 1px rgba(60, 64, 67, 0.15);\n",
              "    fill: var(--button-hover-fill-color);\n",
              "  }\n",
              "\n",
              "  .colab-df-quickchart-complete:disabled,\n",
              "  .colab-df-quickchart-complete:disabled:hover {\n",
              "    background-color: var(--disabled-bg-color);\n",
              "    fill: var(--disabled-fill-color);\n",
              "    box-shadow: none;\n",
              "  }\n",
              "\n",
              "  .colab-df-spinner {\n",
              "    border: 2px solid var(--fill-color);\n",
              "    border-color: transparent;\n",
              "    border-bottom-color: var(--fill-color);\n",
              "    animation:\n",
              "      spin 1s steps(1) infinite;\n",
              "  }\n",
              "\n",
              "  @keyframes spin {\n",
              "    0% {\n",
              "      border-color: transparent;\n",
              "      border-bottom-color: var(--fill-color);\n",
              "      border-left-color: var(--fill-color);\n",
              "    }\n",
              "    20% {\n",
              "      border-color: transparent;\n",
              "      border-left-color: var(--fill-color);\n",
              "      border-top-color: var(--fill-color);\n",
              "    }\n",
              "    30% {\n",
              "      border-color: transparent;\n",
              "      border-left-color: var(--fill-color);\n",
              "      border-top-color: var(--fill-color);\n",
              "      border-right-color: var(--fill-color);\n",
              "    }\n",
              "    40% {\n",
              "      border-color: transparent;\n",
              "      border-right-color: var(--fill-color);\n",
              "      border-top-color: var(--fill-color);\n",
              "    }\n",
              "    60% {\n",
              "      border-color: transparent;\n",
              "      border-right-color: var(--fill-color);\n",
              "    }\n",
              "    80% {\n",
              "      border-color: transparent;\n",
              "      border-right-color: var(--fill-color);\n",
              "      border-bottom-color: var(--fill-color);\n",
              "    }\n",
              "    90% {\n",
              "      border-color: transparent;\n",
              "      border-bottom-color: var(--fill-color);\n",
              "    }\n",
              "  }\n",
              "</style>\n",
              "\n",
              "      <script>\n",
              "        async function quickchart(key) {\n",
              "          const quickchartButtonEl =\n",
              "            document.querySelector('#' + key + ' button');\n",
              "          quickchartButtonEl.disabled = true;  // To prevent multiple clicks.\n",
              "          quickchartButtonEl.classList.add('colab-df-spinner');\n",
              "          try {\n",
              "            const charts = await google.colab.kernel.invokeFunction(\n",
              "                'suggestCharts', [key], {});\n",
              "          } catch (error) {\n",
              "            console.error('Error during call to suggestCharts:', error);\n",
              "          }\n",
              "          quickchartButtonEl.classList.remove('colab-df-spinner');\n",
              "          quickchartButtonEl.classList.add('colab-df-quickchart-complete');\n",
              "        }\n",
              "        (() => {\n",
              "          let quickchartButtonEl =\n",
              "            document.querySelector('#df-9ef90852-adc0-4c0a-8cc3-cbd73d3bd03c button');\n",
              "          quickchartButtonEl.style.display =\n",
              "            google.colab.kernel.accessAllowed ? 'block' : 'none';\n",
              "        })();\n",
              "      </script>\n",
              "    </div>\n",
              "\n",
              "    </div>\n",
              "  </div>\n"
            ],
            "application/vnd.google.colaboratory.intrinsic+json": {
              "type": "dataframe",
              "summary": "{\n  \"name\": \"df_dolar_2023\",\n  \"rows\": 8,\n  \"fields\": [\n    {\n      \"column\": \"valor\",\n      \"properties\": {\n        \"dtype\": \"number\",\n        \"std\": 86.52367330932509,\n        \"min\": 0.1486863989984205,\n        \"max\": 249.0,\n        \"num_unique_values\": 8,\n        \"samples\": [\n          4.9947477911646585,\n          4.9672,\n          249.0\n        ],\n        \"semantic_type\": \"\",\n        \"description\": \"\"\n      }\n    }\n  ]\n}"
            }
          },
          "metadata": {},
          "execution_count": 6
        }
      ]
    },
    {
      "cell_type": "code",
      "source": [
        "df_dolar_2023.T"
      ],
      "metadata": {
        "colab": {
          "base_uri": "https://localhost:8080/",
          "height": 130
        },
        "id": "VeLf_LXM98PX",
        "outputId": "c0d5a833-22f9-4cc7-fe03-fcabeb118bb4"
      },
      "execution_count": null,
      "outputs": [
        {
          "output_type": "execute_result",
          "data": {
            "text/plain": [
              "data   2023-01-02  2023-01-03  2023-01-04  2023-01-05  2023-01-06  2023-01-09  \\\n",
              "valor       5.343      5.3753      5.4453       5.402      5.2849      5.2961   \n",
              "\n",
              "data   2023-01-10  2023-01-11  2023-01-12  2023-01-13  ...  2023-12-15  \\\n",
              "valor      5.2389      5.2014      5.1394       5.114  ...      4.9391   \n",
              "\n",
              "data   2023-12-18  2023-12-19  2023-12-20  2023-12-21  2023-12-22  2023-12-26  \\\n",
              "valor      4.9393      4.8657       4.876      4.8749      4.8613      4.8362   \n",
              "\n",
              "data   2023-12-27  2023-12-28  2023-12-29  \n",
              "valor        4.83      4.8407      4.8407  \n",
              "\n",
              "[1 rows x 249 columns]"
            ],
            "text/html": [
              "\n",
              "  <div id=\"df-24047a50-d7db-47c6-b078-ca42a33aaccd\" class=\"colab-df-container\">\n",
              "    <div>\n",
              "<style scoped>\n",
              "    .dataframe tbody tr th:only-of-type {\n",
              "        vertical-align: middle;\n",
              "    }\n",
              "\n",
              "    .dataframe tbody tr th {\n",
              "        vertical-align: top;\n",
              "    }\n",
              "\n",
              "    .dataframe thead th {\n",
              "        text-align: right;\n",
              "    }\n",
              "</style>\n",
              "<table border=\"1\" class=\"dataframe\">\n",
              "  <thead>\n",
              "    <tr style=\"text-align: right;\">\n",
              "      <th>data</th>\n",
              "      <th>2023-01-02</th>\n",
              "      <th>2023-01-03</th>\n",
              "      <th>2023-01-04</th>\n",
              "      <th>2023-01-05</th>\n",
              "      <th>2023-01-06</th>\n",
              "      <th>2023-01-09</th>\n",
              "      <th>2023-01-10</th>\n",
              "      <th>2023-01-11</th>\n",
              "      <th>2023-01-12</th>\n",
              "      <th>2023-01-13</th>\n",
              "      <th>...</th>\n",
              "      <th>2023-12-15</th>\n",
              "      <th>2023-12-18</th>\n",
              "      <th>2023-12-19</th>\n",
              "      <th>2023-12-20</th>\n",
              "      <th>2023-12-21</th>\n",
              "      <th>2023-12-22</th>\n",
              "      <th>2023-12-26</th>\n",
              "      <th>2023-12-27</th>\n",
              "      <th>2023-12-28</th>\n",
              "      <th>2023-12-29</th>\n",
              "    </tr>\n",
              "  </thead>\n",
              "  <tbody>\n",
              "    <tr>\n",
              "      <th>valor</th>\n",
              "      <td>5.343</td>\n",
              "      <td>5.3753</td>\n",
              "      <td>5.4453</td>\n",
              "      <td>5.402</td>\n",
              "      <td>5.2849</td>\n",
              "      <td>5.2961</td>\n",
              "      <td>5.2389</td>\n",
              "      <td>5.2014</td>\n",
              "      <td>5.1394</td>\n",
              "      <td>5.114</td>\n",
              "      <td>...</td>\n",
              "      <td>4.9391</td>\n",
              "      <td>4.9393</td>\n",
              "      <td>4.8657</td>\n",
              "      <td>4.876</td>\n",
              "      <td>4.8749</td>\n",
              "      <td>4.8613</td>\n",
              "      <td>4.8362</td>\n",
              "      <td>4.83</td>\n",
              "      <td>4.8407</td>\n",
              "      <td>4.8407</td>\n",
              "    </tr>\n",
              "  </tbody>\n",
              "</table>\n",
              "<p>1 rows × 249 columns</p>\n",
              "</div>\n",
              "    <div class=\"colab-df-buttons\">\n",
              "\n",
              "  <div class=\"colab-df-container\">\n",
              "    <button class=\"colab-df-convert\" onclick=\"convertToInteractive('df-24047a50-d7db-47c6-b078-ca42a33aaccd')\"\n",
              "            title=\"Convert this dataframe to an interactive table.\"\n",
              "            style=\"display:none;\">\n",
              "\n",
              "  <svg xmlns=\"http://www.w3.org/2000/svg\" height=\"24px\" viewBox=\"0 -960 960 960\">\n",
              "    <path d=\"M120-120v-720h720v720H120Zm60-500h600v-160H180v160Zm220 220h160v-160H400v160Zm0 220h160v-160H400v160ZM180-400h160v-160H180v160Zm440 0h160v-160H620v160ZM180-180h160v-160H180v160Zm440 0h160v-160H620v160Z\"/>\n",
              "  </svg>\n",
              "    </button>\n",
              "\n",
              "  <style>\n",
              "    .colab-df-container {\n",
              "      display:flex;\n",
              "      gap: 12px;\n",
              "    }\n",
              "\n",
              "    .colab-df-convert {\n",
              "      background-color: #E8F0FE;\n",
              "      border: none;\n",
              "      border-radius: 50%;\n",
              "      cursor: pointer;\n",
              "      display: none;\n",
              "      fill: #1967D2;\n",
              "      height: 32px;\n",
              "      padding: 0 0 0 0;\n",
              "      width: 32px;\n",
              "    }\n",
              "\n",
              "    .colab-df-convert:hover {\n",
              "      background-color: #E2EBFA;\n",
              "      box-shadow: 0px 1px 2px rgba(60, 64, 67, 0.3), 0px 1px 3px 1px rgba(60, 64, 67, 0.15);\n",
              "      fill: #174EA6;\n",
              "    }\n",
              "\n",
              "    .colab-df-buttons div {\n",
              "      margin-bottom: 4px;\n",
              "    }\n",
              "\n",
              "    [theme=dark] .colab-df-convert {\n",
              "      background-color: #3B4455;\n",
              "      fill: #D2E3FC;\n",
              "    }\n",
              "\n",
              "    [theme=dark] .colab-df-convert:hover {\n",
              "      background-color: #434B5C;\n",
              "      box-shadow: 0px 1px 3px 1px rgba(0, 0, 0, 0.15);\n",
              "      filter: drop-shadow(0px 1px 2px rgba(0, 0, 0, 0.3));\n",
              "      fill: #FFFFFF;\n",
              "    }\n",
              "  </style>\n",
              "\n",
              "    <script>\n",
              "      const buttonEl =\n",
              "        document.querySelector('#df-24047a50-d7db-47c6-b078-ca42a33aaccd button.colab-df-convert');\n",
              "      buttonEl.style.display =\n",
              "        google.colab.kernel.accessAllowed ? 'block' : 'none';\n",
              "\n",
              "      async function convertToInteractive(key) {\n",
              "        const element = document.querySelector('#df-24047a50-d7db-47c6-b078-ca42a33aaccd');\n",
              "        const dataTable =\n",
              "          await google.colab.kernel.invokeFunction('convertToInteractive',\n",
              "                                                    [key], {});\n",
              "        if (!dataTable) return;\n",
              "\n",
              "        const docLinkHtml = 'Like what you see? Visit the ' +\n",
              "          '<a target=\"_blank\" href=https://colab.research.google.com/notebooks/data_table.ipynb>data table notebook</a>'\n",
              "          + ' to learn more about interactive tables.';\n",
              "        element.innerHTML = '';\n",
              "        dataTable['output_type'] = 'display_data';\n",
              "        await google.colab.output.renderOutput(dataTable, element);\n",
              "        const docLink = document.createElement('div');\n",
              "        docLink.innerHTML = docLinkHtml;\n",
              "        element.appendChild(docLink);\n",
              "      }\n",
              "    </script>\n",
              "  </div>\n",
              "\n",
              "\n",
              "    </div>\n",
              "  </div>\n"
            ],
            "application/vnd.google.colaboratory.intrinsic+json": {
              "type": "dataframe"
            }
          },
          "metadata": {},
          "execution_count": 7
        }
      ]
    },
    {
      "cell_type": "code",
      "source": [
        "# criar series por MÊS\n",
        "# criar visualizacao por semestre - talvez"
      ],
      "metadata": {
        "id": "sOKGd3LkB4AC"
      },
      "execution_count": null,
      "outputs": []
    },
    {
      "cell_type": "code",
      "source": [
        "# criando series para separar os valores por mês e facilitar na visualização dos dados e criação de gráfico posteriorimente\n",
        "## usando `.resample()` que facilita o agrupamento automático por data\n",
        "dolar_mensal = df_dolar_2023['valor'].resample('M').mean()"
      ],
      "metadata": {
        "colab": {
          "base_uri": "https://localhost:8080/"
        },
        "id": "t60E4nz3HgkV",
        "outputId": "a5c68de8-2bb8-453e-88e0-f2aa5378328e"
      },
      "execution_count": 4,
      "outputs": [
        {
          "output_type": "stream",
          "name": "stderr",
          "text": [
            "/tmp/ipython-input-1020902892.py:3: FutureWarning: 'M' is deprecated and will be removed in a future version, please use 'ME' instead.\n",
            "  dolar_mensal = df_dolar_2023['valor'].resample('M').mean()\n"
          ]
        }
      ]
    },
    {
      "cell_type": "code",
      "source": [
        "# visualizando a series 'dolar_mensal'\n",
        "## usando o resample ele já agrupa com a média\n",
        "print(dolar_mensal)"
      ],
      "metadata": {
        "colab": {
          "base_uri": "https://localhost:8080/"
        },
        "id": "Bhhicr3aH5Gb",
        "outputId": "f6f24dad-e244-4027-f0cd-d20877e749e8"
      },
      "execution_count": null,
      "outputs": [
        {
          "output_type": "stream",
          "name": "stdout",
          "text": [
            "data\n",
            "2023-01-31    5.200082\n",
            "2023-02-28    5.171089\n",
            "2023-03-31    5.210861\n",
            "2023-04-30    5.019133\n",
            "2023-05-31    4.982241\n",
            "2023-06-30    4.850967\n",
            "2023-07-31    4.800233\n",
            "2023-08-31    4.902943\n",
            "2023-09-30    4.936390\n",
            "2023-10-31    5.064243\n",
            "2023-11-30    4.897735\n",
            "2023-12-31    4.896640\n",
            "Freq: ME, Name: valor, dtype: float64\n"
          ]
        }
      ]
    },
    {
      "cell_type": "markdown",
      "source": [
        "## **CRIAÇÃO E CUSTOMIZAÇÃO DE GRÁFICOS DA EVOLUÇÃO MENSAL E SEMESTRAL**"
      ],
      "metadata": {
        "id": "dmGD5F07Jzfy"
      }
    },
    {
      "cell_type": "code",
      "source": [
        "import matplotlib.pyplot as plt"
      ],
      "metadata": {
        "id": "E70D085gKJGf"
      },
      "execution_count": 13,
      "outputs": []
    },
    {
      "cell_type": "code",
      "source": [
        "#Implemente um gráfico da evolução mensal do dólar em 2023\n",
        "#Para um gráfico mais legível modifique o tamanho da figura\n",
        "#Opcional: Você também pode modificar a cor padrão do gráfico\n",
        "\n",
        "##Insira seu código aqui\n",
        "\n",
        "# Definir o tamanho da figura do gráfico para melhor legibilidade (largura=12, altura=6)\n",
        "plt.figure(figsize=(12, 6))\n",
        "\n",
        "# Plotar o gráfico de linhas com os dados mensais\n",
        "dolar_mensal.plot(\n",
        "    kind='line',\n",
        "    color='forestgreen',\n",
        "    marker='o',\n",
        "    linestyle='-'\n",
        ")\n",
        "\n",
        "# Adicionar um título ao gráfico\n",
        "plt.title('Evolução Mensal da Cotação do Dólar em 2023', fontsize=16)\n",
        "\n",
        "# Adicionar rótulos aos eixos X e Y\n",
        "plt.xlabel('Mês', fontsize=12)\n",
        "plt.ylabel('Cotação Média Mensal (R$)', fontsize=12)\n",
        "\n",
        "# Adicionar uma grade para facilitar a visualização dos valores\n",
        "plt.grid(True)\n",
        "\n",
        "# Garantir que o layout fique bem ajustado\n",
        "plt.tight_layout()\n",
        "\n",
        "# Exibir o gráfico gerado\n",
        "plt.show()"
      ],
      "metadata": {
        "id": "GAUIIaEDazFW",
        "colab": {
          "base_uri": "https://localhost:8080/",
          "height": 569
        },
        "outputId": "199e9f2b-2f7e-4879-b434-ae880a3dd14d"
      },
      "execution_count": 14,
      "outputs": [
        {
          "output_type": "display_data",
          "data": {
            "text/plain": [
              "<Figure size 1200x600 with 1 Axes>"
            ],
            "image/png": "[encoded data removed]"
          },
          "metadata": {}
        }
      ]
    },
    {
      "cell_type": "code",
      "source": [
        "# visualização por semestre\n",
        "primeiro_semestre_df = df_dolar_2023.loc[df_dolar_2023.index.month <= 6]\n",
        "segundo_semestre_df = df_dolar_2023.loc[df_dolar_2023.index.month > 6]\n",
        "print(primeiro_semestre_df)"
      ],
      "metadata": {
        "colab": {
          "base_uri": "https://localhost:8080/"
        },
        "id": "8V4Av9m8PWHJ",
        "outputId": "57b0423d-f6d7-4e9c-c100-62af078e8f54"
      },
      "execution_count": 5,
      "outputs": [
        {
          "output_type": "stream",
          "name": "stdout",
          "text": [
            "             valor\n",
            "data              \n",
            "2023-01-02  5.3430\n",
            "2023-01-03  5.3753\n",
            "2023-01-04  5.4453\n",
            "2023-01-05  5.4020\n",
            "2023-01-06  5.2849\n",
            "...            ...\n",
            "2023-06-26  4.7692\n",
            "2023-06-27  4.7897\n",
            "2023-06-28  4.8557\n",
            "2023-06-29  4.8578\n",
            "2023-06-30  4.8186\n",
            "\n",
            "[124 rows x 1 columns]\n"
          ]
        }
      ]
    },
    {
      "cell_type": "code",
      "source": [
        "# media de cada semestre\n",
        "media_primeiroSemestre = primeiro_semestre_df['valor'].mean()\n",
        "media_segundoSemestre = segundo_semestre_df['valor'].mean()\n",
        "print(media_primeiroSemestre)\n",
        "print(media_segundoSemestre)"
      ],
      "metadata": {
        "colab": {
          "base_uri": "https://localhost:8080/"
        },
        "id": "o8FYEStcQGgd",
        "outputId": "af9b4d9b-4371-4dce-ac72-fa493e5c7d5b"
      },
      "execution_count": 6,
      "outputs": [
        {
          "output_type": "stream",
          "name": "stdout",
          "text": [
            "5.073832258064516\n",
            "4.916295999999999\n"
          ]
        }
      ]
    },
    {
      "cell_type": "code",
      "source": [
        "variacao_percentual = ((media_segundoSemestre - media_primeiroSemestre) / media_primeiroSemestre) * 100\n",
        "print(variacao_percentual)"
      ],
      "metadata": {
        "colab": {
          "base_uri": "https://localhost:8080/"
        },
        "id": "HXXhKxsjQsYI",
        "outputId": "0f5d2d44-89f8-4afc-a899-6e5de09cb84e"
      },
      "execution_count": 7,
      "outputs": [
        {
          "output_type": "stream",
          "name": "stdout",
          "text": [
            "-3.104877143191391\n"
          ]
        }
      ]
    },
    {
      "cell_type": "code",
      "source": [
        "print(\"--- Análise Semestral da Cotação do Dólar em 2023 ---\")\n",
        "print(f\"Média do 1º Semestre: R$ {media_primeiroSemestre:.4f}\")\n",
        "print(f\"Média do 2º Semestre: R$ {media_segundoSemestre:.4f}\")\n",
        "print(f\"Variação Percentual do 1º para o 2º Semestre: {variacao_percentual:.2f}%\")"
      ],
      "metadata": {
        "colab": {
          "base_uri": "https://localhost:8080/"
        },
        "id": "xeR7zk4LQ_rn",
        "outputId": "cf1bff42-c080-42d1-c747-a451e0d83d78"
      },
      "execution_count": 8,
      "outputs": [
        {
          "output_type": "stream",
          "name": "stdout",
          "text": [
            "--- Análise Semestral da Cotação do Dólar em 2023 ---\n",
            "Média do 1º Semestre: R$ 5.0738\n",
            "Média do 2º Semestre: R$ 4.9163\n",
            "Variação Percentual do 1º para o 2º Semestre: -3.10%\n"
          ]
        }
      ]
    },
    {
      "cell_type": "code",
      "source": [],
      "metadata": {
        "id": "fHZvATIuV-_3"
      },
      "execution_count": null,
      "outputs": []
    },
    {
      "cell_type": "code",
      "source": [
        "# --- GRÁFICO: EVOLUÇÃO DIÁRIA COM MÉDIAS SEMESTRAIS ---\n",
        "\n",
        "plt.figure(figsize=(15, 7))\n",
        "\n",
        "plt.plot(df_dolar_2023.index, df_dolar_2023['valor'], color='lightgray', label='Cotação Diária')\n",
        "\n",
        "# linha da média do 1º semestre\n",
        "plt.axhline(y=media_primeiroSemestre, color='b', linestyle='--',\n",
        "            xmin=0, xmax=0.5,\n",
        "            label=f'Média 1º Sem (R$ {media_primeiroSemestre:.4f})')\n",
        "\n",
        "# linha da média do 2º semestre\n",
        "plt.axhline(y=media_segundoSemestre, color='r', linestyle='--',\n",
        "            xmin=0.5, xmax=1,\n",
        "            label=f'Média 2º Sem (R$ {media_segundoSemestre:.4f})')\n",
        "\n",
        "\n",
        "plt.title('Evolução Diária do Dólar com Médias Semestrais em 2023', fontsize=16)\n",
        "plt.ylabel('Cotação (R$)')\n",
        "plt.xlabel('Data')\n",
        "plt.legend()\n",
        "plt.grid(True, axis='y', linestyle=':')\n",
        "plt.show()"
      ],
      "metadata": {
        "colab": {
          "base_uri": "https://localhost:8080/",
          "height": 665
        },
        "id": "1eJ-UcqORNOH",
        "outputId": "cf7c5fea-7c2d-495f-b0ed-5ffc0d23ac72"
      },
      "execution_count": null,
      "outputs": [
        {
          "output_type": "display_data",
          "data": {
            "text/plain": [
              "<Figure size 1500x700 with 1 Axes>"
            ],
            "image/png": "[encoded data removed]"
          },
          "metadata": {}
        }
      ]
    },
    {
      "cell_type": "markdown",
      "source": [
        "Escreva um breve comentário sobre o que você observa no gráfico (possíveis insights ou dúvidas)."
      ],
      "metadata": {
        "id": "LLw6OR_AdWml"
      }
    },
    {
      "cell_type": "markdown",
      "source": [
        "Para compreender a dinâmica do dólar em 2023, realizei uma análise sobre sua cotação diária, com *agrupamentos mensais e semestrais* para identificar as principais tendências. A análise semestral, em particular, oferece uma visão macro da trajetória da moeda e serve como base para futuras comparações anuais.\n",
        "\n",
        "A conclusão central de 2023 é uma *tendência de valorização do Real*, com a cotação média do dólar caindo de `R$ 5,07`  no primeiro semestre para `R$ 4,92` no segundo, uma redução de 3,10%.\n",
        "\n",
        "Contudo, essa tendência de queda ocorreu em meio a um cenário de *alta volatilidade*. A cotação média mensal atingiu seu pico em Março (`R$ 5,21`) e seu vale em Julho (`R$ 4,80`). Essa flutuação de quase **9%** reflete um verdadeiro \"cabo de guerra\" entre forças econômicas opostas:\n",
        "\n",
        " - De um lado, fatores de *pressão alta* sobre o dólar, como as incertezas em torno da nova política fiscal do governo brasileiro e um cenário internacional adverso, com a alta de juros nos EUA e tensões geopolíticas.\n",
        "\n",
        " - Do outro lado, o principal fator de *pressão baixa*: a altíssima Taxa Selic no Brasil, que atraiu um forte fluxo de capital estrangeiro e aumentou a oferta de dólares no país.\n",
        "\n",
        "\n",
        "***Logo, podemos extrair alguns insights:***\n",
        "\n",
        " - Apesar dos fatores de instabilidade que tradicionalmente fortalecem o dólar, a moeda tenha se desvalorizado no Brasil. Isso sugere que a atratividade dos juros brasileiros superou a percepção de risco durante grande parte do ano.\n",
        "\n",
        " - O verdadeiro ponto de inflexão da cotação ocorreu em julho, quando o dólar atingiu sua média mínima anual. O mercado, em forte expectativa pelo iminente corte de juros, começou a antecipar o movimento, e a moeda voltou a subir já no final daquele mês. A decisão oficial do Banco Central de reduzir a Taxa Selic em 2 de agosto (a primeira queda em três anos!) veio para confirmar a nova tendência, consolidando o fim do ciclo de forte valorização do Real e indicando uma *possível* correlação entre a política monetária e o comportamento do câmbio.\n",
        "\n",
        "Sendo assim, a trajetória do dólar em 2023 não pode ser atribuída a um único fator. Ela é o resultado de uma complexa interação de forças, onde a política de juros do Banco Central se mostrou um pilar fundamental para a *valorização da moeda brasileira*, mesmo diante de um ambiente de significativas incertezas internas e externas."
      ],
      "metadata": {
        "id": "MPS2tYw3dhWW"
      }
    },
    {
      "cell_type": "markdown",
      "source": [
        "***Sobre o Desafio:***\n",
        "\n",
        "A condução deste desafio foi uma experiência muito gratificante. Tenho grande apreço por projetos práticos e me envolvo profundamente no processo. Mesmo com familiaridade limitada sobre o mercado financeiro, a necessidade de pesquisar o tema para contextualizar a análise se revelou uma jornada de aprendizado estimulante e proveitosa.\n",
        "O principal desafio encontrado foi, de fato, a imersão em uma área que não tenho muito conhecimento, o que exigiu uma pesquisa aprofundada para extrair insights que fossem além da observação superficial. Como próximos passos, planejo revisitar e expandir este projeto, incluindo a análise de dados do ano seguinte para comparações e a implementação de uma correlação direta com os dados históricos da Taxa Selic, mencionada em minha análise."
      ],
      "metadata": {
        "id": "Ajc_2kIIGZQD"
      }
    },
    {
      "cell_type": "code",
      "source": [
        "#Por fim, exporte o dataframe como um arquivo .csv\n",
        "\n",
        "##Insira seu código aqui\n",
        "output_path_custom = 'stella_fernandes_dolar2023.csv'\n",
        "df_dolar_2023.to_csv(output_path_custom, index=True, sep=';', decimal=',')"
      ],
      "metadata": {
        "id": "rAFNeBKJbtRW"
      },
      "execution_count": 9,
      "outputs": []
    },
    {
      "cell_type": "code",
      "source": [
        "#criando dataframe da Series 'dolar_mensal'\n",
        "df_media_mensal = dolar_mensal.to_frame(name='media_cotacao_dolar')\n",
        "df_media_mensal.index.name = 'mes'\n",
        "# salvando em csv\n",
        "output_path_mensal = 'dolar_medias_mensais_2023.csv'\n",
        "df_media_mensal.to_csv(output_path_mensal, index=True)\n"
      ],
      "metadata": {
        "id": "9XxQbFGXrs2k"
      },
      "execution_count": 10,
      "outputs": []
    },
    {
      "cell_type": "markdown",
      "source": [
        "## Materiais de apoio"
      ],
      "metadata": {
        "id": "ArPQIG1WbLHV"
      }
    },
    {
      "cell_type": "markdown",
      "source": [
        "### **Referências Bibliográficas**\n",
        "\n",
        "**Fontes Oficiais (Banco Central do Brasil)**\n",
        "\n",
        "BANCO CENTRAL DO BRASIL. Histórico de taxas de juros básicas. BCB. Disponível em: https://www.bcb.gov.br/controleinflacao/historicotaxasjuros. Acesso em: 11 ago. 2025.\n",
        "\n",
        "BANCO CENTRAL DO BRASIL. Atas do Copom. BCB. Disponível em: https://www.bcb.gov.br/publicacoes/atascopom/cronologicos. Acesso em: 11 ago. 2025.\n",
        "\n",
        "BANCO CENTRAL DO BRASIL. Ata da 256ª Reunião do Comitê de Política Monetária (Copom). Publicada em 08 de agosto de 2023. Disponível em: https://www.bcb.gov.br/publicacoes/atascopom/02082023. Acesso em: 11 ago. 2025.\n",
        "\n",
        "\n",
        "**Artigos e Análises (Mídia e Mercado)**\n",
        "\n",
        "G1. Copom corta taxa básica de juros; Selic cai de 13,75% para 13,25%. Publicado em 02 de agosto de 2023. Disponível em: https://g1.globo.com/economia/noticia/2023/08/02/copom-corta-taxa-basica-de-juros-selic-cai-de-1375percent-para-1325percent.ghtml. Acesso em: 11 ago. 2025.\n",
        "\n",
        "\n",
        "PODER360. BC corta Selic mais uma vez e juro base termina ano em 11,75%. Publicado em 13 de dezembro de 2023. Disponível em: https://www.poder360.com.br/economia/bc-corta-selic-mais-uma-vez-e-juro-base-termina-ano-em-1175/. Acesso em: 11 ago. 2025.\n",
        "\n",
        "\n",
        "BRASILPREV. Retrospectiva econômica 2023 e perspectivas para 2024. Blog Brasilprev. Disponível em: https://blog.brasilprev.com.br/retrospectiva-economica-2023. Acesso em: 11 ago. 2025.\n"
      ],
      "metadata": {
        "id": "H7UnB-Bz4I8U"
      }
    },
    {
      "cell_type": "markdown",
      "source": [],
      "metadata": {
        "id": "3sUQDhaGdmOk"
      }
    }
  ]
}